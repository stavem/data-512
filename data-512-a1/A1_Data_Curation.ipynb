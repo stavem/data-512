{
 "cells": [
  {
   "cell_type": "markdown",
   "metadata": {},
   "source": [
    "# A1: Data Curation\n",
    "Karl Stavem  \n",
    "ID:  1978397\n",
    "\n",
    "---\n",
    "> TL;DR: The goal of this assignment is to construct, analyze, and publish a dataset of monthly traffic on English Wikipedia from January 1, 2008 through August 30, 2020.\n",
    "---"
   ]
  },
  {
   "cell_type": "markdown",
   "metadata": {},
   "source": [
    "### Step 1: Gathering the data"
   ]
  },
  {
   "cell_type": "code",
   "execution_count": 29,
   "metadata": {},
   "outputs": [],
   "source": [
    "# import libraries\n",
    "import os\n",
    "import requests\n",
    "import json\n",
    "import pandas as pd"
   ]
  },
  {
   "cell_type": "code",
   "execution_count": null,
   "metadata": {},
   "outputs": [],
   "source": [
    "# 5 JSON files\n",
    "#  One file each corresponding to the 2 query types in the legacy pagecount API (desktop, mobile)\n",
    "# 3 query types in the newer pageviews API (desktop, mobile wbe, mobile app)\n",
    "# Jan 2008 - August 2020"
   ]
  },
  {
   "cell_type": "markdown",
   "metadata": {},
   "source": [
    "First, make sure header information is set for each API call."
   ]
  },
  {
   "cell_type": "code",
   "execution_count": 79,
   "metadata": {},
   "outputs": [],
   "source": [
    "# set headers for API calls\n",
    "headers = {\n",
    "    'User-Agent': 'https://github.com/stavem',\n",
    "    'From': 'kstavem@uw.edu'\n",
    "}"
   ]
  },
  {
   "cell_type": "markdown",
   "metadata": {},
   "source": [
    "Since there are two separate APIs, define the endpoints."
   ]
  },
  {
   "cell_type": "code",
   "execution_count": 80,
   "metadata": {},
   "outputs": [],
   "source": [
    "# set the API endpoint\n",
    "endpoint_legacy = 'https://wikimedia.org/api/rest_v1/metrics/legacy/pagecounts/aggregate/{project}/{access-site}/{granularity}/{start}/{end}'\n",
    "endpoint_new = 'https://wikimedia.org/api/rest_v1/metrics/pageviews/aggregate/{project}/{access}/{agent}/{granularity}/{start}/{end}'"
   ]
  },
  {
   "cell_type": "markdown",
   "metadata": {},
   "source": [
    "Because the parameters are close but the syntax is slightly different between the two APIs, create a method to quickly switch between the two.   For this exercise, most of our parameters remain constant so we only need to change the version and access site to generate new parameters."
   ]
  },
  {
   "cell_type": "code",
   "execution_count": 88,
   "metadata": {},
   "outputs": [],
   "source": [
    "def assign_parameters(is_legacy_version, access, project = \"en.wikipedia.org\", agent = \"user\", granularity = \"monthly\", \n",
    "                      start = '2008010100', end =  '2020090100'):\n",
    "    \"\"\"\n",
    "    Input:  Access and Version\n",
    "        Possible versions are \"legacy\" and \"new\"\n",
    "    Output:  Parameters for API query\n",
    "    \"\"\"\n",
    "    \n",
    "    if is_legacy_version:\n",
    "                      params = {\"project\" : project,\n",
    "                                \"access-site\" : access,\n",
    "                                \"granularity\" : granularity,\n",
    "                                \"start\" : start,\n",
    "                                \"end\" : end\n",
    "                               }\n",
    "\n",
    "    else:\n",
    "                      params = {\"project\" : project,\n",
    "                                \"access\" :access,\n",
    "                                \"agent\" : agent,\n",
    "                                \"granularity\" : granularity,\n",
    "                                \"start\" : start,\n",
    "                                \"end\" : end\n",
    "                               }\n",
    "    return params"
   ]
  },
  {
   "cell_type": "code",
   "execution_count": 117,
   "metadata": {},
   "outputs": [],
   "source": [
    "# define the 5 sites we'll be looking at\n",
    "new_sites = ['desktop', 'mobile-web', 'mobile-app']\n",
    "legacy_sites = ['dektop-site', 'mobile-site']"
   ]
  },
  {
   "cell_type": "code",
   "execution_count": 22,
   "metadata": {},
   "outputs": [],
   "source": [
    "def api_call(endpoint,parameters):\n",
    "    \"\"\"\n",
    "    Method to conduct API calls\n",
    "    Inputs:  Wikipedia API Endpoint, Parameter for API call\n",
    "    Output:  Response in JSON format\n",
    "    \"\"\"\n",
    "    call = requests.get(endpoint.format(**parameters), headers=headers)\n",
    "    response = call.json()\n",
    "    \n",
    "    return response"
   ]
  },
  {
   "cell_type": "code",
   "execution_count": 119,
   "metadata": {},
   "outputs": [],
   "source": [
    "for site in new_sites:\n",
    "    # call the API\n",
    "    params = assign_parameters(is_legacy_version = 0, access = site)\n",
    "    data = api_call(endpoint_new, params)\n",
    "    \n",
    "    # write to file\n",
    "    with open('data-512/data-512-a1/pagecounts_{}_200712-202008.json'.format(site), 'w', encoding='utf-8') as f:\n",
    "        json.dump(data, f, ensure_ascii=False, indent=4)\n",
    "    \n",
    "    "
   ]
  },
  {
   "cell_type": "code",
   "execution_count": 121,
   "metadata": {},
   "outputs": [],
   "source": [
    "for site in legacy_sites:\n",
    "    # call the API\n",
    "    params = assign_parameters(is_legacy_version = 1, access = site)\n",
    "    data = api_call(endpoint_legacy, params)\n",
    "    \n",
    "    # write to file\n",
    "    with open('data-512/data-512-a1/legacy_{}_200712-202008.json'.format(site), 'w', encoding='utf-8') as f:\n",
    "        json.dump(data, f, ensure_ascii=False, indent=4)"
   ]
  },
  {
   "cell_type": "code",
   "execution_count": 110,
   "metadata": {},
   "outputs": [
    {
     "data": {
      "text/plain": [
       "{'project': 'en.wikipedia.org',\n",
       " 'access-site': 'desktop-site',\n",
       " 'granularity': 'monthly',\n",
       " 'start': '2008010100',\n",
       " 'end': '2020090100'}"
      ]
     },
     "execution_count": 110,
     "metadata": {},
     "output_type": "execute_result"
    }
   ],
   "source": [
    "assign_parameters(is_legacy_version = 1, access = \"desktop-site\")"
   ]
  },
  {
   "cell_type": "code",
   "execution_count": 115,
   "metadata": {},
   "outputs": [],
   "source": [
    "new_sites = ['desktop', 'mobile-web', 'mobile-app']\n",
    "legacy_sites = ['dektop-site', 'mobile-site']"
   ]
  },
  {
   "cell_type": "code",
   "execution_count": 116,
   "metadata": {},
   "outputs": [
    {
     "name": "stdout",
     "output_type": "stream",
     "text": [
      "desktop\n",
      "mobile-web\n",
      "mobile-app\n"
     ]
    }
   ],
   "source": [
    "for site in new_sites:\n",
    "    print(site)"
   ]
  },
  {
   "cell_type": "code",
   "execution_count": 113,
   "metadata": {},
   "outputs": [],
   "source": [
    "data_legacy_desktop = api_call(endpoint_legacy, assign_parameters(is_legacy_version = 1, access = 'desktop-site'))\n",
    "data_legacy_mobile_site = api_call(endpoint_legacy, assign_parameters(is_legacy_version = 1, access = 'mobile-site'))\n"
   ]
  },
  {
   "cell_type": "code",
   "execution_count": 99,
   "metadata": {},
   "outputs": [],
   "source": [
    "with open('data-512/data-512-a1/pagecounts_desktop-site_200712-202008.json', 'w', encoding='utf-8') as f:\n",
    "    json.dump(data_new_desktop, f, ensure_ascii=False, indent=4)"
   ]
  },
  {
   "cell_type": "code",
   "execution_count": 62,
   "metadata": {
    "collapsed": true,
    "jupyter": {
     "outputs_hidden": true
    }
   },
   "outputs": [
    {
     "data": {
      "text/html": [
       "<div>\n",
       "<style scoped>\n",
       "    .dataframe tbody tr th:only-of-type {\n",
       "        vertical-align: middle;\n",
       "    }\n",
       "\n",
       "    .dataframe tbody tr th {\n",
       "        vertical-align: top;\n",
       "    }\n",
       "\n",
       "    .dataframe thead th {\n",
       "        text-align: right;\n",
       "    }\n",
       "</style>\n",
       "<table border=\"1\" class=\"dataframe\">\n",
       "  <thead>\n",
       "    <tr style=\"text-align: right;\">\n",
       "      <th></th>\n",
       "      <th>project</th>\n",
       "      <th>access-site</th>\n",
       "      <th>granularity</th>\n",
       "      <th>timestamp</th>\n",
       "      <th>count</th>\n",
       "    </tr>\n",
       "  </thead>\n",
       "  <tbody>\n",
       "    <tr>\n",
       "      <th>0</th>\n",
       "      <td>en.wikipedia</td>\n",
       "      <td>desktop-site</td>\n",
       "      <td>monthly</td>\n",
       "      <td>2008010100</td>\n",
       "      <td>4930902570</td>\n",
       "    </tr>\n",
       "    <tr>\n",
       "      <th>1</th>\n",
       "      <td>en.wikipedia</td>\n",
       "      <td>desktop-site</td>\n",
       "      <td>monthly</td>\n",
       "      <td>2008020100</td>\n",
       "      <td>4818393763</td>\n",
       "    </tr>\n",
       "    <tr>\n",
       "      <th>2</th>\n",
       "      <td>en.wikipedia</td>\n",
       "      <td>desktop-site</td>\n",
       "      <td>monthly</td>\n",
       "      <td>2008030100</td>\n",
       "      <td>4955405809</td>\n",
       "    </tr>\n",
       "    <tr>\n",
       "      <th>3</th>\n",
       "      <td>en.wikipedia</td>\n",
       "      <td>desktop-site</td>\n",
       "      <td>monthly</td>\n",
       "      <td>2008040100</td>\n",
       "      <td>5159162183</td>\n",
       "    </tr>\n",
       "    <tr>\n",
       "      <th>4</th>\n",
       "      <td>en.wikipedia</td>\n",
       "      <td>desktop-site</td>\n",
       "      <td>monthly</td>\n",
       "      <td>2008050100</td>\n",
       "      <td>5584691092</td>\n",
       "    </tr>\n",
       "    <tr>\n",
       "      <th>...</th>\n",
       "      <td>...</td>\n",
       "      <td>...</td>\n",
       "      <td>...</td>\n",
       "      <td>...</td>\n",
       "      <td>...</td>\n",
       "    </tr>\n",
       "    <tr>\n",
       "      <th>99</th>\n",
       "      <td>en.wikipedia</td>\n",
       "      <td>desktop-site</td>\n",
       "      <td>monthly</td>\n",
       "      <td>2016040100</td>\n",
       "      <td>5572235399</td>\n",
       "    </tr>\n",
       "    <tr>\n",
       "      <th>100</th>\n",
       "      <td>en.wikipedia</td>\n",
       "      <td>desktop-site</td>\n",
       "      <td>monthly</td>\n",
       "      <td>2016050100</td>\n",
       "      <td>5330532334</td>\n",
       "    </tr>\n",
       "    <tr>\n",
       "      <th>101</th>\n",
       "      <td>en.wikipedia</td>\n",
       "      <td>desktop-site</td>\n",
       "      <td>monthly</td>\n",
       "      <td>2016060100</td>\n",
       "      <td>4975092447</td>\n",
       "    </tr>\n",
       "    <tr>\n",
       "      <th>102</th>\n",
       "      <td>en.wikipedia</td>\n",
       "      <td>desktop-site</td>\n",
       "      <td>monthly</td>\n",
       "      <td>2016070100</td>\n",
       "      <td>5363966439</td>\n",
       "    </tr>\n",
       "    <tr>\n",
       "      <th>103</th>\n",
       "      <td>en.wikipedia</td>\n",
       "      <td>desktop-site</td>\n",
       "      <td>monthly</td>\n",
       "      <td>2016080100</td>\n",
       "      <td>913675893</td>\n",
       "    </tr>\n",
       "  </tbody>\n",
       "</table>\n",
       "<p>104 rows × 5 columns</p>\n",
       "</div>"
      ],
      "text/plain": [
       "          project   access-site granularity   timestamp       count\n",
       "0    en.wikipedia  desktop-site     monthly  2008010100  4930902570\n",
       "1    en.wikipedia  desktop-site     monthly  2008020100  4818393763\n",
       "2    en.wikipedia  desktop-site     monthly  2008030100  4955405809\n",
       "3    en.wikipedia  desktop-site     monthly  2008040100  5159162183\n",
       "4    en.wikipedia  desktop-site     monthly  2008050100  5584691092\n",
       "..            ...           ...         ...         ...         ...\n",
       "99   en.wikipedia  desktop-site     monthly  2016040100  5572235399\n",
       "100  en.wikipedia  desktop-site     monthly  2016050100  5330532334\n",
       "101  en.wikipedia  desktop-site     monthly  2016060100  4975092447\n",
       "102  en.wikipedia  desktop-site     monthly  2016070100  5363966439\n",
       "103  en.wikipedia  desktop-site     monthly  2016080100   913675893\n",
       "\n",
       "[104 rows x 5 columns]"
      ]
     },
     "execution_count": 62,
     "metadata": {},
     "output_type": "execute_result"
    }
   ],
   "source": [
    "df = pd.DataFrame(data_legacy)['items']\n",
    "df"
   ]
  },
  {
   "cell_type": "code",
   "execution_count": 66,
   "metadata": {
    "jupyter": {
     "source_hidden": true
    }
   },
   "outputs": [
    {
     "name": "stdout",
     "output_type": "stream",
     "text": [
      "2016080100\n",
      "2008010100\n"
     ]
    }
   ],
   "source": [
    "print(max(df['timestamp']))\n",
    "print(min(df['timestamp']))"
   ]
  },
  {
   "cell_type": "code",
   "execution_count": 59,
   "metadata": {},
   "outputs": [],
   "source": []
  },
  {
   "cell_type": "markdown",
   "metadata": {},
   "source": [
    "\n",
    "### Step 2: Processing the data"
   ]
  },
  {
   "cell_type": "code",
   "execution_count": null,
   "metadata": {},
   "outputs": [],
   "source": [
    "df = pd.DataFrame(data_legacy, columns= ['project',  'access-site','granularity','timestamp','count'])"
   ]
  },
  {
   "cell_type": "markdown",
   "metadata": {},
   "source": [
    "### Step 3: Analyze the data"
   ]
  },
  {
   "cell_type": "code",
   "execution_count": null,
   "metadata": {},
   "outputs": [],
   "source": []
  },
  {
   "cell_type": "markdown",
   "metadata": {},
   "source": [
    "### Step 4: Document your process thoroughly"
   ]
  },
  {
   "cell_type": "code",
   "execution_count": null,
   "metadata": {},
   "outputs": [],
   "source": []
  },
  {
   "cell_type": "markdown",
   "metadata": {},
   "source": [
    "---\n",
    "### Step 5: Submit the assignment"
   ]
  },
  {
   "cell_type": "markdown",
   "metadata": {},
   "source": [
    "The github link for this assignment can be found here:   <a href=\"https://github.com/stavem/data-512/tree/main/data-512-a1\">here</a>."
   ]
  },
  {
   "cell_type": "markdown",
   "metadata": {},
   "source": [
    "The github link for this assignment can be found here:   <a href=\"https://github.com/stavem/data-512/tree/main/data-512-a1\">here</a>."
   ]
  }
 ],
 "metadata": {
  "kernelspec": {
   "display_name": "Python 3",
   "language": "python",
   "name": "python3"
  },
  "language_info": {
   "codemirror_mode": {
    "name": "ipython",
    "version": 3
   },
   "file_extension": ".py",
   "mimetype": "text/x-python",
   "name": "python",
   "nbconvert_exporter": "python",
   "pygments_lexer": "ipython3",
   "version": "3.7.4"
  }
 },
 "nbformat": 4,
 "nbformat_minor": 4
}
