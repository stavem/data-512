{
 "cells": [
  {
   "cell_type": "markdown",
   "metadata": {},
   "source": [
    "# A1: Data Curation\n",
    "Karl Stavem  \n",
    "ID:  1978397\n",
    "\n",
    "---\n",
    "> TL;DR: The goal of this assignment is to construct, analyze, and publish a dataset of monthly traffic on English Wikipedia from January 1, 2008 through August 30, 2020.\n",
    "---"
   ]
  },
  {
   "cell_type": "markdown",
   "metadata": {},
   "source": [
    "### Step 1: Gathering the data"
   ]
  },
  {
   "cell_type": "code",
   "execution_count": 1,
   "metadata": {},
   "outputs": [],
   "source": [
    "# import libraries\n",
    "import os\n",
    "import requests\n",
    "import json\n",
    "import pandas as pd\n",
    "import numpy as np\n",
    "import matplotlib.pyplot as plt"
   ]
  },
  {
   "cell_type": "markdown",
   "metadata": {},
   "source": [
    "Since there are two separate APIs, define the endpoints."
   ]
  },
  {
   "cell_type": "code",
   "execution_count": 2,
   "metadata": {},
   "outputs": [],
   "source": [
    "# set the API endpoint\n",
    "\n",
    "# from January 2008 to July 2016\n",
    "endpoint_legacy = 'https://wikimedia.org/api/rest_v1/metrics/legacy/pagecounts/aggregate/{project}/{access-site}/{granularity}/{start}/{end}'\n",
    "\n",
    "# from May 1st, 2015\n",
    "endpoint_new = 'https://wikimedia.org/api/rest_v1/metrics/pageviews/aggregate/{project}/{access}/{agent}/{granularity}/{start}/{end}'"
   ]
  },
  {
   "cell_type": "markdown",
   "metadata": {},
   "source": [
    "First, make sure header information is set for each API call."
   ]
  },
  {
   "cell_type": "code",
   "execution_count": 3,
   "metadata": {},
   "outputs": [],
   "source": [
    "# set headers for API calls\n",
    "headers = {\n",
    "    'User-Agent': 'https://github.com/stavem',\n",
    "    'From': 'kstavem@uw.edu'\n",
    "}"
   ]
  },
  {
   "cell_type": "markdown",
   "metadata": {},
   "source": [
    "Because the parameters are similiar in each API but the syntax is slightly different between them, create a method to quickly switch between the two.   For this exercise, most of our parameters remain constant so we only need to change the version and access site.  We could also leave the start and end date constant if we like to catch all possible data in each API."
   ]
  },
  {
   "cell_type": "code",
   "execution_count": 4,
   "metadata": {},
   "outputs": [],
   "source": [
    "def assign_parameters(is_legacy_version, access, project = \"en.wikipedia.org\", agent = \"user\", granularity = \"monthly\", \n",
    "                      start = '2008010100', end =  '2020090100'):\n",
    "    \"\"\"\n",
    "    Input:  Access and is_legacy_version\n",
    "            For legacy API set is_legacy_version = 1\n",
    "            For legacy API:  Valid access inputs in ['dektop-site', 'mobile-site']\n",
    "            For non-legacy API:  Valid access in ['desktop', 'mobile-web', 'mobile-app']\n",
    "        \n",
    "    Output:  Parameters for use in API query\n",
    "    \"\"\"\n",
    "    \n",
    "    if is_legacy_version:\n",
    "                      params = {\"project\" : project,\n",
    "                                \"access-site\" : access,\n",
    "                                \"granularity\" : granularity,\n",
    "                                \"start\" : start,\n",
    "                                \"end\" : end\n",
    "                               }\n",
    "\n",
    "    else:\n",
    "                      params = {\"project\" : project,\n",
    "                                \"access\" :access,\n",
    "                                \"agent\" : agent,\n",
    "                                \"granularity\" : granularity,\n",
    "                                \"start\" : start,\n",
    "                                \"end\" : end\n",
    "                               }\n",
    "    return params"
   ]
  },
  {
   "cell_type": "markdown",
   "metadata": {},
   "source": [
    "Create a method to pass these parameters into a wikipedia API call and return the response."
   ]
  },
  {
   "cell_type": "code",
   "execution_count": 5,
   "metadata": {},
   "outputs": [],
   "source": [
    "def api_call(endpoint,parameters):\n",
    "    \"\"\"\n",
    "    Conduct API calls\n",
    "    Inputs:  Wikipedia API Endpoint, Parameters for API call\n",
    "    Output:  Response in JSON format\n",
    "    \"\"\"\n",
    "    \n",
    "    # try to call the api\n",
    "    try:\n",
    "        call = requests.get(endpoint.format(**parameters), headers=headers)\n",
    "        call.raise_for_status()\n",
    "        \n",
    "    # Alert user of any errors\n",
    "    except requests.exceptions.HTTPError as error:\n",
    "        print(error)\n",
    "    \n",
    "    response = call.json()\n",
    "    return response"
   ]
  },
  {
   "cell_type": "code",
   "execution_count": 6,
   "metadata": {},
   "outputs": [],
   "source": [
    "# define the 5 sites we'll be looking at\n",
    "new_sites = ['desktop', 'mobile-web', 'mobile-app']\n",
    "legacy_sites = ['desktop-site', 'mobile-site']"
   ]
  },
  {
   "cell_type": "code",
   "execution_count": 7,
   "metadata": {},
   "outputs": [],
   "source": [
    "# set directory to work with all saved files\n",
    "directory_path = '/home/jovyan/data-512/data-512-a1/'\n",
    "\n",
    "# store list of saved files for later\n",
    "files_list = []"
   ]
  },
  {
   "cell_type": "markdown",
   "metadata": {},
   "source": [
    "Collect all 3 data sources from the new API.   Save the results as JSON files.  Store the file names in a list for access later."
   ]
  },
  {
   "cell_type": "code",
   "execution_count": 8,
   "metadata": {},
   "outputs": [],
   "source": [
    "for site in new_sites:\n",
    "    \n",
    "    # call the API\n",
    "    params = assign_parameters(is_legacy_version = 0, access = site, start = '2015070100', end = '2020080100')\n",
    "    data = api_call(endpoint_new, params)\n",
    "    \n",
    "    # name the file, store location in a list\n",
    "    filename = 'pageviews_{}_201507-202008.json'.format(site)\n",
    "    files_list.append(directory_path + filename)\n",
    "    \n",
    "    # write to file\n",
    "    with open(directory_path + filename, 'w', encoding='utf-8') as f:\n",
    "        json.dump(data, f, ensure_ascii=False, indent=4)\n",
    "    \n",
    "    "
   ]
  },
  {
   "cell_type": "markdown",
   "metadata": {},
   "source": [
    "Collect all 3 data sources from the legacy API.   Save the results as JSON files.  Store the file names in a list for access later."
   ]
  },
  {
   "cell_type": "code",
   "execution_count": 9,
   "metadata": {},
   "outputs": [],
   "source": [
    "for site in legacy_sites:\n",
    "    \n",
    "    # call the API\n",
    "    params = assign_parameters(is_legacy_version = 1, access = site, start = '2007120100', end = '2016080100')\n",
    "    data = api_call(endpoint_legacy, params)\n",
    "    \n",
    "    # name the file, store location in a list\n",
    "    filename = 'legacy_pagecounts_{}_200712-201607.json'.format(site)\n",
    "    files_list.append(directory_path + filename)\n",
    "    \n",
    "    # write to file\n",
    "    with open(directory_path + filename, 'w', encoding='utf-8') as f:\n",
    "        json.dump(data, f, ensure_ascii=False, indent=4)"
   ]
  },
  {
   "cell_type": "markdown",
   "metadata": {},
   "source": [
    "\n",
    "### Step 2: Processing the data"
   ]
  },
  {
   "cell_type": "markdown",
   "metadata": {},
   "source": [
    "* For data collected from the Pageviews API, combine the monthly values for mobile-app and mobile-web to create a total mobile traffic count for each month."
   ]
  },
  {
   "cell_type": "markdown",
   "metadata": {},
   "source": [
    "First, iterate through all the files that have been collected and combine them into one big JSON file."
   ]
  },
  {
   "cell_type": "code",
   "execution_count": 10,
   "metadata": {},
   "outputs": [],
   "source": [
    "# combine all json files into one json file\n",
    "combined_json_file=[]\n",
    "\n",
    "for file in files_list:\n",
    "    with open(file) as f:\n",
    "        combined_json_file.append(json.load(f))"
   ]
  },
  {
   "cell_type": "markdown",
   "metadata": {},
   "source": [
    "Then, convert that JSON file into a data frame to make it easier to manipulate."
   ]
  },
  {
   "cell_type": "code",
   "execution_count": 11,
   "metadata": {},
   "outputs": [],
   "source": [
    "# convert JSON file into pandas dataframe\n",
    "df = pd.DataFrame()\n",
    "for i in range(len(combined_json_file)):\n",
    "    df=df.append(pd.json_normalize(combined_json_file[i]['items']))                      "
   ]
  },
  {
   "cell_type": "code",
   "execution_count": null,
   "metadata": {},
   "outputs": [],
   "source": [
    "# # keep track of the api that was used\n",
    "# df['API'] = np.where(df['access'].isna(), 'pagecount', 'pageviews')"
   ]
  },
  {
   "cell_type": "code",
   "execution_count": 12,
   "metadata": {},
   "outputs": [],
   "source": [
    "# drop the project, granularity columns - unnecessary\n",
    "df.drop(['project', 'granularity', 'agent'], axis=1, inplace = True)\n"
   ]
  },
  {
   "cell_type": "markdown",
   "metadata": {},
   "source": [
    "Rename some of the date to make aggregation easier"
   ]
  },
  {
   "cell_type": "code",
   "execution_count": 13,
   "metadata": {},
   "outputs": [],
   "source": [
    "# combine all the newest mobile traffic into one category\n",
    "df.loc[df['access'].isin(['mobile-app', 'mobile-web']),'access'] = 'pageview_mobile_views'\n",
    "\n",
    "# change the desktop value\n",
    "df.loc[df['access'].isin(['desktop']),'access'] = 'pageview_desktop_views'\n",
    "\n",
    "# combine all the newest mobile traffic into one category\n",
    "df.loc[df['access-site'].isin(['mobile-site']),'access-site'] = 'pagecount_mobile_views'\n",
    "\n",
    "# change the value to desktop to desktop-site\n",
    "df.loc[df['access-site'].isin(['desktop-site']),'access-site'] = 'pagecount_desktop_views'\n"
   ]
  },
  {
   "cell_type": "code",
   "execution_count": 14,
   "metadata": {},
   "outputs": [],
   "source": [
    "# # create a new source column to track\n",
    "df['source'] = np.where(df[\"access\"].isnull(), df[\"access-site\"], df[\"access\"] )\n",
    "\n",
    "# #drop old columns\n",
    "df.drop(['access', 'access-site'], axis=1, inplace = True)"
   ]
  },
  {
   "cell_type": "code",
   "execution_count": 15,
   "metadata": {},
   "outputs": [],
   "source": [
    "# extract the year and the month from the timestamp column\n",
    "df['year'] = df['timestamp'].str[:4]\n",
    "df['month'] = df['timestamp'].str[4:6]\n",
    "\n",
    "# drop the timestamp column as it is unnecessary\n",
    "df.drop(['timestamp'], axis=1, inplace = True)\n"
   ]
  },
  {
   "cell_type": "code",
   "execution_count": 16,
   "metadata": {},
   "outputs": [],
   "source": [
    "# get rid of NA in total columns\n",
    "df['views'] = df['views'].fillna(0)\n",
    "df['count'] = df['count'].fillna(0)\n",
    "\n",
    "# add totals\n",
    "df['views'] = df['views']+df['count'].fillna(0)\n",
    "\n",
    "# drop the count column\n",
    "df.drop(['count'], axis=1, inplace = True)"
   ]
  },
  {
   "cell_type": "markdown",
   "metadata": {},
   "source": [
    "Combine all data into a single CSV file with the following headers:\n",
    "\n",
    "* year / YYYY\n",
    "* month / MM\n",
    "* pagecount_all_views / num_views\n",
    "* pagecount_desktop_views / num_views\n",
    "* pagecount_mobile_views / num_views\n",
    "* pageview_all_views / num_views\n",
    "* pageview_desktop_views / num_views\n",
    "* pageview_mobile_views / num_views\n"
   ]
  },
  {
   "cell_type": "code",
   "execution_count": 17,
   "metadata": {},
   "outputs": [],
   "source": [
    "# pivot the data and aggregate according the the instructions\n",
    "\n",
    "df_pivoted = pd.pivot_table(df, values='views', index=['year', 'month'],\n",
    "                    columns=['source'], aggfunc=np.sum, fill_value=0)\n",
    "\n",
    "# Formatting.\n",
    "df_pivoted.reset_index(inplace=True)\n",
    "df_pivoted.columns.name = None"
   ]
  },
  {
   "cell_type": "code",
   "execution_count": 18,
   "metadata": {},
   "outputs": [],
   "source": [
    "# add all traffic for totals\n",
    "df_pivoted['pagecount_all_views'] = df_pivoted['pagecount_desktop_views'] + df_pivoted['pagecount_mobile_views']\n",
    "df_pivoted['pageview_all_views'] = df_pivoted['pageview_desktop_views'] + df_pivoted['pageview_mobile_views']"
   ]
  },
  {
   "cell_type": "code",
   "execution_count": 19,
   "metadata": {},
   "outputs": [
    {
     "data": {
      "text/html": [
       "<div>\n",
       "<style scoped>\n",
       "    .dataframe tbody tr th:only-of-type {\n",
       "        vertical-align: middle;\n",
       "    }\n",
       "\n",
       "    .dataframe tbody tr th {\n",
       "        vertical-align: top;\n",
       "    }\n",
       "\n",
       "    .dataframe thead th {\n",
       "        text-align: right;\n",
       "    }\n",
       "</style>\n",
       "<table border=\"1\" class=\"dataframe\">\n",
       "  <thead>\n",
       "    <tr style=\"text-align: right;\">\n",
       "      <th></th>\n",
       "      <th>year</th>\n",
       "      <th>month</th>\n",
       "      <th>pagecount_desktop_views</th>\n",
       "      <th>pagecount_mobile_views</th>\n",
       "      <th>pageview_desktop_views</th>\n",
       "      <th>pageview_mobile_views</th>\n",
       "      <th>pagecount_all_views</th>\n",
       "      <th>pageview_all_views</th>\n",
       "    </tr>\n",
       "  </thead>\n",
       "  <tbody>\n",
       "    <tr>\n",
       "      <th>0</th>\n",
       "      <td>2007</td>\n",
       "      <td>12</td>\n",
       "      <td>2998331524</td>\n",
       "      <td>0</td>\n",
       "      <td>0</td>\n",
       "      <td>0</td>\n",
       "      <td>2998331524</td>\n",
       "      <td>0</td>\n",
       "    </tr>\n",
       "    <tr>\n",
       "      <th>1</th>\n",
       "      <td>2008</td>\n",
       "      <td>01</td>\n",
       "      <td>4930902570</td>\n",
       "      <td>0</td>\n",
       "      <td>0</td>\n",
       "      <td>0</td>\n",
       "      <td>4930902570</td>\n",
       "      <td>0</td>\n",
       "    </tr>\n",
       "    <tr>\n",
       "      <th>2</th>\n",
       "      <td>2008</td>\n",
       "      <td>02</td>\n",
       "      <td>4818393763</td>\n",
       "      <td>0</td>\n",
       "      <td>0</td>\n",
       "      <td>0</td>\n",
       "      <td>4818393763</td>\n",
       "      <td>0</td>\n",
       "    </tr>\n",
       "    <tr>\n",
       "      <th>3</th>\n",
       "      <td>2008</td>\n",
       "      <td>03</td>\n",
       "      <td>4955405809</td>\n",
       "      <td>0</td>\n",
       "      <td>0</td>\n",
       "      <td>0</td>\n",
       "      <td>4955405809</td>\n",
       "      <td>0</td>\n",
       "    </tr>\n",
       "    <tr>\n",
       "      <th>4</th>\n",
       "      <td>2008</td>\n",
       "      <td>04</td>\n",
       "      <td>5159162183</td>\n",
       "      <td>0</td>\n",
       "      <td>0</td>\n",
       "      <td>0</td>\n",
       "      <td>5159162183</td>\n",
       "      <td>0</td>\n",
       "    </tr>\n",
       "    <tr>\n",
       "      <th>...</th>\n",
       "      <td>...</td>\n",
       "      <td>...</td>\n",
       "      <td>...</td>\n",
       "      <td>...</td>\n",
       "      <td>...</td>\n",
       "      <td>...</td>\n",
       "      <td>...</td>\n",
       "      <td>...</td>\n",
       "    </tr>\n",
       "    <tr>\n",
       "      <th>147</th>\n",
       "      <td>2020</td>\n",
       "      <td>03</td>\n",
       "      <td>0</td>\n",
       "      <td>0</td>\n",
       "      <td>3412498274</td>\n",
       "      <td>4686270555</td>\n",
       "      <td>0</td>\n",
       "      <td>8098768829</td>\n",
       "    </tr>\n",
       "    <tr>\n",
       "      <th>148</th>\n",
       "      <td>2020</td>\n",
       "      <td>04</td>\n",
       "      <td>0</td>\n",
       "      <td>0</td>\n",
       "      <td>3798372613</td>\n",
       "      <td>5505741941</td>\n",
       "      <td>0</td>\n",
       "      <td>9304114554</td>\n",
       "    </tr>\n",
       "    <tr>\n",
       "      <th>149</th>\n",
       "      <td>2020</td>\n",
       "      <td>05</td>\n",
       "      <td>0</td>\n",
       "      <td>0</td>\n",
       "      <td>3078093615</td>\n",
       "      <td>5231700095</td>\n",
       "      <td>0</td>\n",
       "      <td>8309793710</td>\n",
       "    </tr>\n",
       "    <tr>\n",
       "      <th>150</th>\n",
       "      <td>2020</td>\n",
       "      <td>06</td>\n",
       "      <td>0</td>\n",
       "      <td>0</td>\n",
       "      <td>2721328557</td>\n",
       "      <td>4573975256</td>\n",
       "      <td>0</td>\n",
       "      <td>7295303813</td>\n",
       "    </tr>\n",
       "    <tr>\n",
       "      <th>151</th>\n",
       "      <td>2020</td>\n",
       "      <td>07</td>\n",
       "      <td>0</td>\n",
       "      <td>0</td>\n",
       "      <td>2638936132</td>\n",
       "      <td>4809714465</td>\n",
       "      <td>0</td>\n",
       "      <td>7448650597</td>\n",
       "    </tr>\n",
       "  </tbody>\n",
       "</table>\n",
       "<p>152 rows × 8 columns</p>\n",
       "</div>"
      ],
      "text/plain": [
       "     year month  pagecount_desktop_views  pagecount_mobile_views  \\\n",
       "0    2007    12               2998331524                       0   \n",
       "1    2008    01               4930902570                       0   \n",
       "2    2008    02               4818393763                       0   \n",
       "3    2008    03               4955405809                       0   \n",
       "4    2008    04               5159162183                       0   \n",
       "..    ...   ...                      ...                     ...   \n",
       "147  2020    03                        0                       0   \n",
       "148  2020    04                        0                       0   \n",
       "149  2020    05                        0                       0   \n",
       "150  2020    06                        0                       0   \n",
       "151  2020    07                        0                       0   \n",
       "\n",
       "     pageview_desktop_views  pageview_mobile_views  pagecount_all_views  \\\n",
       "0                         0                      0           2998331524   \n",
       "1                         0                      0           4930902570   \n",
       "2                         0                      0           4818393763   \n",
       "3                         0                      0           4955405809   \n",
       "4                         0                      0           5159162183   \n",
       "..                      ...                    ...                  ...   \n",
       "147              3412498274             4686270555                    0   \n",
       "148              3798372613             5505741941                    0   \n",
       "149              3078093615             5231700095                    0   \n",
       "150              2721328557             4573975256                    0   \n",
       "151              2638936132             4809714465                    0   \n",
       "\n",
       "     pageview_all_views  \n",
       "0                     0  \n",
       "1                     0  \n",
       "2                     0  \n",
       "3                     0  \n",
       "4                     0  \n",
       "..                  ...  \n",
       "147          8098768829  \n",
       "148          9304114554  \n",
       "149          8309793710  \n",
       "150          7295303813  \n",
       "151          7448650597  \n",
       "\n",
       "[152 rows x 8 columns]"
      ]
     },
     "execution_count": 19,
     "metadata": {},
     "output_type": "execute_result"
    }
   ],
   "source": [
    "# view results\n",
    "df_pivoted"
   ]
  },
  {
   "cell_type": "code",
   "execution_count": 20,
   "metadata": {},
   "outputs": [
    {
     "data": {
      "text/html": [
       "<div>\n",
       "<style scoped>\n",
       "    .dataframe tbody tr th:only-of-type {\n",
       "        vertical-align: middle;\n",
       "    }\n",
       "\n",
       "    .dataframe tbody tr th {\n",
       "        vertical-align: top;\n",
       "    }\n",
       "\n",
       "    .dataframe thead th {\n",
       "        text-align: right;\n",
       "    }\n",
       "</style>\n",
       "<table border=\"1\" class=\"dataframe\">\n",
       "  <thead>\n",
       "    <tr style=\"text-align: right;\">\n",
       "      <th></th>\n",
       "      <th>year</th>\n",
       "      <th>month</th>\n",
       "      <th>pagecount_all_views</th>\n",
       "      <th>pagecount_desktop_views</th>\n",
       "      <th>pagecount_mobile_views</th>\n",
       "      <th>pageview_all_views</th>\n",
       "      <th>pageview_desktop_views</th>\n",
       "      <th>pageview_mobile_views</th>\n",
       "    </tr>\n",
       "  </thead>\n",
       "  <tbody>\n",
       "    <tr>\n",
       "      <th>0</th>\n",
       "      <td>2007</td>\n",
       "      <td>12</td>\n",
       "      <td>2998331524</td>\n",
       "      <td>2998331524</td>\n",
       "      <td>0</td>\n",
       "      <td>0</td>\n",
       "      <td>0</td>\n",
       "      <td>0</td>\n",
       "    </tr>\n",
       "    <tr>\n",
       "      <th>1</th>\n",
       "      <td>2008</td>\n",
       "      <td>01</td>\n",
       "      <td>4930902570</td>\n",
       "      <td>4930902570</td>\n",
       "      <td>0</td>\n",
       "      <td>0</td>\n",
       "      <td>0</td>\n",
       "      <td>0</td>\n",
       "    </tr>\n",
       "    <tr>\n",
       "      <th>2</th>\n",
       "      <td>2008</td>\n",
       "      <td>02</td>\n",
       "      <td>4818393763</td>\n",
       "      <td>4818393763</td>\n",
       "      <td>0</td>\n",
       "      <td>0</td>\n",
       "      <td>0</td>\n",
       "      <td>0</td>\n",
       "    </tr>\n",
       "    <tr>\n",
       "      <th>3</th>\n",
       "      <td>2008</td>\n",
       "      <td>03</td>\n",
       "      <td>4955405809</td>\n",
       "      <td>4955405809</td>\n",
       "      <td>0</td>\n",
       "      <td>0</td>\n",
       "      <td>0</td>\n",
       "      <td>0</td>\n",
       "    </tr>\n",
       "    <tr>\n",
       "      <th>4</th>\n",
       "      <td>2008</td>\n",
       "      <td>04</td>\n",
       "      <td>5159162183</td>\n",
       "      <td>5159162183</td>\n",
       "      <td>0</td>\n",
       "      <td>0</td>\n",
       "      <td>0</td>\n",
       "      <td>0</td>\n",
       "    </tr>\n",
       "    <tr>\n",
       "      <th>...</th>\n",
       "      <td>...</td>\n",
       "      <td>...</td>\n",
       "      <td>...</td>\n",
       "      <td>...</td>\n",
       "      <td>...</td>\n",
       "      <td>...</td>\n",
       "      <td>...</td>\n",
       "      <td>...</td>\n",
       "    </tr>\n",
       "    <tr>\n",
       "      <th>147</th>\n",
       "      <td>2020</td>\n",
       "      <td>03</td>\n",
       "      <td>0</td>\n",
       "      <td>0</td>\n",
       "      <td>0</td>\n",
       "      <td>8098768829</td>\n",
       "      <td>3412498274</td>\n",
       "      <td>4686270555</td>\n",
       "    </tr>\n",
       "    <tr>\n",
       "      <th>148</th>\n",
       "      <td>2020</td>\n",
       "      <td>04</td>\n",
       "      <td>0</td>\n",
       "      <td>0</td>\n",
       "      <td>0</td>\n",
       "      <td>9304114554</td>\n",
       "      <td>3798372613</td>\n",
       "      <td>5505741941</td>\n",
       "    </tr>\n",
       "    <tr>\n",
       "      <th>149</th>\n",
       "      <td>2020</td>\n",
       "      <td>05</td>\n",
       "      <td>0</td>\n",
       "      <td>0</td>\n",
       "      <td>0</td>\n",
       "      <td>8309793710</td>\n",
       "      <td>3078093615</td>\n",
       "      <td>5231700095</td>\n",
       "    </tr>\n",
       "    <tr>\n",
       "      <th>150</th>\n",
       "      <td>2020</td>\n",
       "      <td>06</td>\n",
       "      <td>0</td>\n",
       "      <td>0</td>\n",
       "      <td>0</td>\n",
       "      <td>7295303813</td>\n",
       "      <td>2721328557</td>\n",
       "      <td>4573975256</td>\n",
       "    </tr>\n",
       "    <tr>\n",
       "      <th>151</th>\n",
       "      <td>2020</td>\n",
       "      <td>07</td>\n",
       "      <td>0</td>\n",
       "      <td>0</td>\n",
       "      <td>0</td>\n",
       "      <td>7448650597</td>\n",
       "      <td>2638936132</td>\n",
       "      <td>4809714465</td>\n",
       "    </tr>\n",
       "  </tbody>\n",
       "</table>\n",
       "<p>152 rows × 8 columns</p>\n",
       "</div>"
      ],
      "text/plain": [
       "     year month  pagecount_all_views  pagecount_desktop_views  \\\n",
       "0    2007    12           2998331524               2998331524   \n",
       "1    2008    01           4930902570               4930902570   \n",
       "2    2008    02           4818393763               4818393763   \n",
       "3    2008    03           4955405809               4955405809   \n",
       "4    2008    04           5159162183               5159162183   \n",
       "..    ...   ...                  ...                      ...   \n",
       "147  2020    03                    0                        0   \n",
       "148  2020    04                    0                        0   \n",
       "149  2020    05                    0                        0   \n",
       "150  2020    06                    0                        0   \n",
       "151  2020    07                    0                        0   \n",
       "\n",
       "     pagecount_mobile_views  pageview_all_views  pageview_desktop_views  \\\n",
       "0                         0                   0                       0   \n",
       "1                         0                   0                       0   \n",
       "2                         0                   0                       0   \n",
       "3                         0                   0                       0   \n",
       "4                         0                   0                       0   \n",
       "..                      ...                 ...                     ...   \n",
       "147                       0          8098768829              3412498274   \n",
       "148                       0          9304114554              3798372613   \n",
       "149                       0          8309793710              3078093615   \n",
       "150                       0          7295303813              2721328557   \n",
       "151                       0          7448650597              2638936132   \n",
       "\n",
       "     pageview_mobile_views  \n",
       "0                        0  \n",
       "1                        0  \n",
       "2                        0  \n",
       "3                        0  \n",
       "4                        0  \n",
       "..                     ...  \n",
       "147             4686270555  \n",
       "148             5505741941  \n",
       "149             5231700095  \n",
       "150             4573975256  \n",
       "151             4809714465  \n",
       "\n",
       "[152 rows x 8 columns]"
      ]
     },
     "execution_count": 20,
     "metadata": {},
     "output_type": "execute_result"
    }
   ],
   "source": [
    "# rearrange columns and order to match assignment\n",
    "df = df_pivoted[['year','month', 'pagecount_all_views', 'pagecount_desktop_views', 'pagecount_mobile_views', \n",
    "                'pageview_all_views', 'pageview_desktop_views', 'pageview_mobile_views']].sort_values(by=['year', 'month'])\n",
    "df"
   ]
  },
  {
   "cell_type": "markdown",
   "metadata": {},
   "source": [
    "For all months with 0 pageviews for a given access method (e.g. desktop-site, mobile-app), that value for that (column, month) should be listed as 0. So for example all values of pagecount_mobile_views for months before October 2014 should be 0, because mobile traffic data is not available before that month."
   ]
  },
  {
   "cell_type": "code",
   "execution_count": 21,
   "metadata": {},
   "outputs": [
    {
     "data": {
      "text/plain": [
       "0      2007\n",
       "1      2008\n",
       "2      2008\n",
       "3      2008\n",
       "4      2008\n",
       "       ... \n",
       "147    2020\n",
       "148    2020\n",
       "149    2020\n",
       "150    2020\n",
       "151    2020\n",
       "Name: year, Length: 152, dtype: object"
      ]
     },
     "execution_count": 21,
     "metadata": {},
     "output_type": "execute_result"
    }
   ],
   "source": [
    "df['year']"
   ]
  },
  {
   "cell_type": "markdown",
   "metadata": {},
   "source": [
    "The final data file should be named: `en-wikipedia_traffic_200712-202008.csv`"
   ]
  },
  {
   "cell_type": "code",
   "execution_count": 22,
   "metadata": {},
   "outputs": [],
   "source": [
    "# write file\n",
    "df.to_csv('en-wikipedia_traffic_200712-202008.csv', index=False)"
   ]
  },
  {
   "cell_type": "markdown",
   "metadata": {},
   "source": [
    "### Step 3: Analyze the data"
   ]
  },
  {
   "cell_type": "code",
   "execution_count": 28,
   "metadata": {},
   "outputs": [],
   "source": [
    "# set the index to month/date for easier graphing\n",
    "df = df.set_index(pd.to_datetime(df[['year','month']].assign(day=1)))"
   ]
  },
  {
   "cell_type": "code",
   "execution_count": 48,
   "metadata": {},
   "outputs": [],
   "source": [
    "# Using matplotlib and seaborn\n",
    "import matplotlib.pyplot as plt\n",
    "import seaborn as sns\n",
    "from matplotlib.lines import Line2D\n",
    "\n",
    "# magic code for viewing plots using jupyter notebooks:\n",
    "%matplotlib inline "
   ]
  },
  {
   "cell_type": "code",
   "execution_count": null,
   "metadata": {},
   "outputs": [],
   "source": [
    "#df[df.index > '2015-05-01'][['pageview_desktop_views']+['pagecount_desktop_views']]/1000000"
   ]
  },
  {
   "cell_type": "code",
   "execution_count": null,
   "metadata": {},
   "outputs": [],
   "source": [
    "#df[df.index > '2015-05-01']"
   ]
  },
  {
   "cell_type": "code",
   "execution_count": 65,
   "metadata": {},
   "outputs": [
    {
     "data": {
      "image/png": "[encoded data removed]",
      "text/plain": [
       "<Figure size 1080x432 with 1 Axes>"
      ]
     },
     "metadata": {},
     "output_type": "display_data"
    }
   ],
   "source": [
    "fig, ax = plt.subplots(figsize=(15, 6))\n",
    "plt.style.use('ggplot')\n",
    "\n",
    "\n",
    "# Set plot title , axes labels/range\n",
    "ax.set(title = \"Page Views on English Wikipedia (x 1,000,000)\")\n",
    "ax.set(xlabel = \"Year\")\n",
    "ax.set(ylabel = \"Pageviews\")\n",
    "plt.ylim(0,12000)\n",
    "\n",
    "# write the caption at the bottom of the page\n",
    "caption = 'May 2015: A new pageview definition took effect, which eliminated all crawler traffic.\\\n",
    " Solid lines mark new definition.'\n",
    "\n",
    "# add lines to the plot (divide by 1,000,000 for scale)\n",
    "ax.plot((df[df.index < '2015-05-01'][['pagecount_all_views']+['pageview_all_views']]/1000000).where((df[['pagecount_all_views']+['pageview_all_views']]>0)), '--r', label='total')\n",
    "ax.plot((df[df.index >= '2015-05-01'][['pagecount_all_views']+['pageview_all_views']]/1000000).where((df[['pagecount_all_views']+['pageview_all_views']]>0)), '-r', label='total')\n",
    "\n",
    "\n",
    "ax.plot((df[df.index >= '2015-05-01'][['pageview_desktop_views']+['pagecount_desktop_views']]/1000000).where(df[['pageview_desktop_views']+['pagecount_desktop_views']]>0), '-g', label='main site')\n",
    "ax.plot((df[df.index < '2015-05-01'][['pageview_desktop_views']+['pagecount_desktop_views']]/1000000).where(df[['pageview_desktop_views']+['pagecount_desktop_views']]>0), '--g', label='main site')\n",
    "\n",
    "\n",
    "ax.plot((df[df.index >= '2015-05-01'][['pageview_mobile_views']+['pagecount_mobile_views']]/1000000).where(df[['pageview_mobile_views']+['pagecount_mobile_views']]>0), '-b' )\n",
    "ax.plot((df[df.index < '2015-05-01'][['pageview_mobile_views']+['pagecount_mobile_views']]/1000000).where(df[['pageview_mobile_views']+['pagecount_mobile_views']]>0), '--b')\n",
    "\n",
    "# add caption to figure\n",
    "fig.text(.5, .001, caption, ha='center', c = 'r')\n",
    "\n",
    "# since we have multiple lines, manually define legend elements\n",
    "legend_elements = [Line2D([0], [0], color='g', lw=2, label='main site', linestyle='--'),\n",
    "                   Line2D([0], [0], color='b', lw=2, label='mobile site', linestyle='--'),\n",
    "                   Line2D([0], [0], color='r', lw=2, label='total', linestyle='--')]\n",
    "\n",
    "# add the legend to the plot with a border\n",
    "ax.legend(handles = legend_elements, loc='upper left', frameon=True)\n",
    "\n",
    "plt.show()"
   ]
  },
  {
   "cell_type": "code",
   "execution_count": 46,
   "metadata": {},
   "outputs": [],
   "source": [
    "# save the file once all steps complete\n",
    "fig.savefig('FinalGraph.png', quality = 95, pad_inches = .5)"
   ]
  },
  {
   "cell_type": "markdown",
   "metadata": {},
   "source": [
    "### Step 4: Document your process thoroughly"
   ]
  },
  {
   "cell_type": "code",
   "execution_count": null,
   "metadata": {},
   "outputs": [],
   "source": []
  },
  {
   "cell_type": "markdown",
   "metadata": {},
   "source": [
    "---\n",
    "### Step 5: Submit the assignment"
   ]
  },
  {
   "cell_type": "markdown",
   "metadata": {},
   "source": [
    "The github link for this assignment can be found here:   <a href=\"https://github.com/stavem/data-512/tree/main/data-512-a1\">here</a>."
   ]
  },
  {
   "cell_type": "markdown",
   "metadata": {},
   "source": [
    "The github link for this assignment can be found here:   <a href=\"https://github.com/stavem/data-512/tree/main/data-512-a1\">here</a>."
   ]
  }
 ],
 "metadata": {
  "kernelspec": {
   "display_name": "Python 3",
   "language": "python",
   "name": "python3"
  },
  "language_info": {
   "codemirror_mode": {
    "name": "ipython",
    "version": 3
   },
   "file_extension": ".py",
   "mimetype": "text/x-python",
   "name": "python",
   "nbconvert_exporter": "python",
   "pygments_lexer": "ipython3",
   "version": "3.7.4"
  }
 },
 "nbformat": 4,
 "nbformat_minor": 4
}
