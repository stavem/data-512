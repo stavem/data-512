{
 "cells": [
  {
   "cell_type": "markdown",
   "metadata": {},
   "source": [
    "# A2 Bias In Data"
   ]
  },
  {
   "cell_type": "markdown",
   "metadata": {},
   "source": [
    "## TL;DR   \n",
    "The purpose of this exploration is to identify potential sources of bias in a corpus of human-annotated data, and describe some implications of those biases.\n",
    "\n",
    "_Data Source:  https://figshare.com/projects/Wikipedia_Talk/16731_  \n",
    "_Overview of the project:  https://meta.wikimedia.org/wiki/Research:Detox_  \n",
    "_Overview of the data: https://meta.wikimedia.org/wiki/Research:Detox/Data_Release_"
   ]
  },
  {
   "cell_type": "markdown",
   "metadata": {},
   "source": [
    "## AQUIRE DATA"
   ]
  },
  {
   "cell_type": "markdown",
   "metadata": {},
   "source": [
    "Download all the data, using the `%%caption` magic keyword to suppress the outputs."
   ]
  },
  {
   "cell_type": "code",
   "execution_count": null,
   "metadata": {},
   "outputs": [],
   "source": [
    "%%capture  \n",
    "\n",
    "# download toxicity data\n",
    "!wget https://ndownloader.figshare.com/files/7394539 -O Raw_Data/toxicity_annotations.tsv\n",
    "!wget https://ndownloader.figshare.com/files/7394542 -O Raw_Data/toxicity_annotated_comments.tsv\n",
    "!wget https://ndownloader.figshare.com/files/7640581 -O Raw_Data/toxicity_worker_demographics.tsv\n",
    "\n",
    "# download aggression data\n",
    "!wget https://ndownloader.figshare.com/files/7394506 -O Raw_Data/aggression_annotations.tsv\n",
    "!wget https://ndownloader.figshare.com/files/7038038 -O Raw_Data/aggression_annotated_comments.tsv\n",
    "!wget https://ndownloader.figshare.com/files/7640644 -O Raw_Data/aggression_worker_demographics.tsv\n",
    "     \n",
    "# downlaod personal attacks\n",
    "!wget https://ndownloader.figshare.com/files/7554637 -O Raw_Data/attack_annotations.tsv\n",
    "!wget https://ndownloader.figshare.com/files/7554634 -O Raw_Data/attack_annotated_comments.tsv\n",
    "!wget https://ndownloader.figshare.com/files/7640752 -O Raw_Data/attack_worker_demographics.tsv\n"
   ]
  },
  {
   "cell_type": "markdown",
   "metadata": {},
   "source": [
    "Read in the downloaded data as a pandas dataframe."
   ]
  },
  {
   "cell_type": "code",
   "execution_count": 1,
   "metadata": {},
   "outputs": [],
   "source": [
    "import pandas as pd\n",
    "\n",
    "# toxicity data\n",
    "toxicity_annotations = pd.read_csv(\"Raw_Data/toxicity_annotations.tsv\", delimiter=\"\\t\")\n",
    "toxicity_annotated_comments = pd.read_csv(\"Raw_Data/toxicity_annotated_comments.tsv\", delimiter=\"\\t\", index_col=0)\n",
    "toxicity_worker_demographics = pd.read_csv(\"Raw_Data/toxicity_worker_demographics.tsv\", delimiter=\"\\t\")\n",
    "\n",
    "# aggression data\n",
    "aggression_annotations = pd.read_csv(\"Raw_Data/aggression_annotations.tsv\", delimiter=\"\\t\")\n",
    "aggression_annotated_comments = pd.read_csv(\"Raw_Data/aggression_annotated_comments.tsv\", delimiter=\"\\t\", index_col=0)\n",
    "aggression_worker_demographics = pd.read_csv(\"Raw_Data/aggression_worker_demographics.tsv\", delimiter=\"\\t\")\n",
    "\n",
    "# personal attack data\n",
    "attack_annotations = pd.read_csv(\"Raw_Data/attack_annotations.tsv\", delimiter=\"\\t\")\n",
    "attack_annotated_comments = pd.read_csv(\"Raw_Data/attack_annotated_comments.tsv\", delimiter=\"\\t\", index_col=0)\n",
    "attack_worker_demographics = pd.read_csv(\"Raw_Data/attack_worker_demographics.tsv\", delimiter=\"\\t\")"
   ]
  },
  {
   "cell_type": "markdown",
   "metadata": {},
   "source": [
    "## TOXICITY ANALYSIS"
   ]
  },
  {
   "cell_type": "markdown",
   "metadata": {},
   "source": [
    "### DATA CLEANING"
   ]
  },
  {
   "cell_type": "markdown",
   "metadata": {},
   "source": [
    "First, examine the types of columns that typically get labeled as toxic.   We'll consider a comment to be toxic if at least 50% of reviewers labeled it as such."
   ]
  },
  {
   "cell_type": "code",
   "execution_count": 2,
   "metadata": {},
   "outputs": [],
   "source": [
    "# labels a comment as toxic if the majority of annotators did so\n",
    "toxicity_labels = toxicity_annotations.groupby('rev_id')['toxicity'].mean() > 0.5\n",
    "\n",
    "# join the labels and comments\n",
    "toxicity_annotated_comments['labeled_toxic'] = toxicity_labels\n",
    "\n",
    "# remove newline and tab tokens\n",
    "toxicity_annotated_comments['comment'] = toxicity_annotated_comments['comment'].apply(lambda x: x.replace(\"NEWLINE_TOKEN\", \" \"))\n",
    "toxicity_annotated_comments['comment'] = toxicity_annotated_comments['comment'].apply(lambda x: x.replace(\"TAB_TOKEN\", \" \"))"
   ]
  },
  {
   "cell_type": "markdown",
   "metadata": {},
   "source": [
    "If we preview the results we can verify that these comments indeed appear to be toxic."
   ]
  },
  {
   "cell_type": "code",
   "execution_count": 3,
   "metadata": {},
   "outputs": [
    {
     "data": {
      "text/html": [
       "<div>\n",
       "<style scoped>\n",
       "    .dataframe tbody tr th:only-of-type {\n",
       "        vertical-align: middle;\n",
       "    }\n",
       "\n",
       "    .dataframe tbody tr th {\n",
       "        vertical-align: top;\n",
       "    }\n",
       "\n",
       "    .dataframe thead th {\n",
       "        text-align: right;\n",
       "    }\n",
       "</style>\n",
       "<table border=\"1\" class=\"dataframe\">\n",
       "  <thead>\n",
       "    <tr style=\"text-align: right;\">\n",
       "      <th></th>\n",
       "      <th>comment</th>\n",
       "      <th>year</th>\n",
       "      <th>logged_in</th>\n",
       "      <th>ns</th>\n",
       "      <th>sample</th>\n",
       "      <th>split</th>\n",
       "      <th>labeled_toxic</th>\n",
       "    </tr>\n",
       "    <tr>\n",
       "      <th>rev_id</th>\n",
       "      <th></th>\n",
       "      <th></th>\n",
       "      <th></th>\n",
       "      <th></th>\n",
       "      <th></th>\n",
       "      <th></th>\n",
       "      <th></th>\n",
       "    </tr>\n",
       "  </thead>\n",
       "  <tbody>\n",
       "    <tr>\n",
       "      <th>597212.0</th>\n",
       "      <td>`  After the wasted bit on his sexuality, I ha...</td>\n",
       "      <td>2003</td>\n",
       "      <td>False</td>\n",
       "      <td>article</td>\n",
       "      <td>random</td>\n",
       "      <td>test</td>\n",
       "      <td>True</td>\n",
       "    </tr>\n",
       "    <tr>\n",
       "      <th>1266286.0</th>\n",
       "      <td>Erik, for crying out loud. You legally can...</td>\n",
       "      <td>2003</td>\n",
       "      <td>True</td>\n",
       "      <td>user</td>\n",
       "      <td>random</td>\n",
       "      <td>test</td>\n",
       "      <td>True</td>\n",
       "    </tr>\n",
       "    <tr>\n",
       "      <th>1502668.0</th>\n",
       "      <td>BOOBS, BOOBS, BOOBS, BOOBS, BOOBS, BOOBS, BOOB...</td>\n",
       "      <td>2003</td>\n",
       "      <td>True</td>\n",
       "      <td>user</td>\n",
       "      <td>blocked</td>\n",
       "      <td>test</td>\n",
       "      <td>True</td>\n",
       "    </tr>\n",
       "    <tr>\n",
       "      <th>2187425.0</th>\n",
       "      <td>```Nazi filth`` is impolite    `</td>\n",
       "      <td>2004</td>\n",
       "      <td>True</td>\n",
       "      <td>article</td>\n",
       "      <td>random</td>\n",
       "      <td>train</td>\n",
       "      <td>True</td>\n",
       "    </tr>\n",
       "    <tr>\n",
       "      <th>3129678.0</th>\n",
       "      <td>Prior to Quickpolls, he would have been perma...</td>\n",
       "      <td>2004</td>\n",
       "      <td>True</td>\n",
       "      <td>user</td>\n",
       "      <td>random</td>\n",
       "      <td>train</td>\n",
       "      <td>True</td>\n",
       "    </tr>\n",
       "    <tr>\n",
       "      <th>3427333.0</th>\n",
       "      <td>Hi. Yes, I'd noticed. It's always gratifing to...</td>\n",
       "      <td>2004</td>\n",
       "      <td>True</td>\n",
       "      <td>user</td>\n",
       "      <td>random</td>\n",
       "      <td>train</td>\n",
       "      <td>True</td>\n",
       "    </tr>\n",
       "    <tr>\n",
       "      <th>3803199.0</th>\n",
       "      <td>Yep, Shiguy. That's me. David Hodges. I have n...</td>\n",
       "      <td>2004</td>\n",
       "      <td>True</td>\n",
       "      <td>user</td>\n",
       "      <td>random</td>\n",
       "      <td>train</td>\n",
       "      <td>True</td>\n",
       "    </tr>\n",
       "    <tr>\n",
       "      <th>4282271.0</th>\n",
       "      <td>Better believe it.  At least I earned a Barn...</td>\n",
       "      <td>2004</td>\n",
       "      <td>True</td>\n",
       "      <td>user</td>\n",
       "      <td>random</td>\n",
       "      <td>train</td>\n",
       "      <td>True</td>\n",
       "    </tr>\n",
       "    <tr>\n",
       "      <th>4632658.0</th>\n",
       "      <td>i have a dick, its bigger than yours! hahaha</td>\n",
       "      <td>2004</td>\n",
       "      <td>False</td>\n",
       "      <td>article</td>\n",
       "      <td>blocked</td>\n",
       "      <td>train</td>\n",
       "      <td>True</td>\n",
       "    </tr>\n",
       "    <tr>\n",
       "      <th>5610875.0</th>\n",
       "      <td>:::Are you trying to wind me up or something...</td>\n",
       "      <td>2004</td>\n",
       "      <td>True</td>\n",
       "      <td>article</td>\n",
       "      <td>random</td>\n",
       "      <td>train</td>\n",
       "      <td>True</td>\n",
       "    </tr>\n",
       "    <tr>\n",
       "      <th>5815399.0</th>\n",
       "      <td>It was anonymous on accident, and FYI, I'm n...</td>\n",
       "      <td>2004</td>\n",
       "      <td>True</td>\n",
       "      <td>article</td>\n",
       "      <td>random</td>\n",
       "      <td>test</td>\n",
       "      <td>True</td>\n",
       "    </tr>\n",
       "    <tr>\n",
       "      <th>5861505.0</th>\n",
       "      <td>==You're a motherfucking idiot==  You're stu...</td>\n",
       "      <td>2004</td>\n",
       "      <td>False</td>\n",
       "      <td>user</td>\n",
       "      <td>random</td>\n",
       "      <td>dev</td>\n",
       "      <td>True</td>\n",
       "    </tr>\n",
       "    <tr>\n",
       "      <th>6468556.0</th>\n",
       "      <td>`:: Actually, it is you who ``resorted to path...</td>\n",
       "      <td>2004</td>\n",
       "      <td>True</td>\n",
       "      <td>article</td>\n",
       "      <td>random</td>\n",
       "      <td>train</td>\n",
       "      <td>True</td>\n",
       "    </tr>\n",
       "    <tr>\n",
       "      <th>6545332.0</th>\n",
       "      <td>== renault ==  you sad little bpy for drivin...</td>\n",
       "      <td>2004</td>\n",
       "      <td>True</td>\n",
       "      <td>user</td>\n",
       "      <td>blocked</td>\n",
       "      <td>dev</td>\n",
       "      <td>True</td>\n",
       "    </tr>\n",
       "    <tr>\n",
       "      <th>7514418.0</th>\n",
       "      <td>a dippy lunatic like</td>\n",
       "      <td>2004</td>\n",
       "      <td>True</td>\n",
       "      <td>article</td>\n",
       "      <td>random</td>\n",
       "      <td>test</td>\n",
       "      <td>True</td>\n",
       "    </tr>\n",
       "  </tbody>\n",
       "</table>\n",
       "</div>"
      ],
      "text/plain": [
       "                                                     comment  year  logged_in  \\\n",
       "rev_id                                                                          \n",
       "597212.0   `  After the wasted bit on his sexuality, I ha...  2003      False   \n",
       "1266286.0      Erik, for crying out loud. You legally can...  2003       True   \n",
       "1502668.0  BOOBS, BOOBS, BOOBS, BOOBS, BOOBS, BOOBS, BOOB...  2003       True   \n",
       "2187425.0                   ```Nazi filth`` is impolite    `  2004       True   \n",
       "3129678.0   Prior to Quickpolls, he would have been perma...  2004       True   \n",
       "3427333.0  Hi. Yes, I'd noticed. It's always gratifing to...  2004       True   \n",
       "3803199.0  Yep, Shiguy. That's me. David Hodges. I have n...  2004       True   \n",
       "4282271.0    Better believe it.  At least I earned a Barn...  2004       True   \n",
       "4632658.0       i have a dick, its bigger than yours! hahaha  2004      False   \n",
       "5610875.0    :::Are you trying to wind me up or something...  2004       True   \n",
       "5815399.0    It was anonymous on accident, and FYI, I'm n...  2004       True   \n",
       "5861505.0    ==You're a motherfucking idiot==  You're stu...  2004      False   \n",
       "6468556.0  `:: Actually, it is you who ``resorted to path...  2004       True   \n",
       "6545332.0    == renault ==  you sad little bpy for drivin...  2004       True   \n",
       "7514418.0                              a dippy lunatic like   2004       True   \n",
       "\n",
       "                ns   sample  split  labeled_toxic  \n",
       "rev_id                                             \n",
       "597212.0   article   random   test           True  \n",
       "1266286.0     user   random   test           True  \n",
       "1502668.0     user  blocked   test           True  \n",
       "2187425.0  article   random  train           True  \n",
       "3129678.0     user   random  train           True  \n",
       "3427333.0     user   random  train           True  \n",
       "3803199.0     user   random  train           True  \n",
       "4282271.0     user   random  train           True  \n",
       "4632658.0  article  blocked  train           True  \n",
       "5610875.0  article   random  train           True  \n",
       "5815399.0  article   random   test           True  \n",
       "5861505.0     user   random    dev           True  \n",
       "6468556.0  article   random  train           True  \n",
       "6545332.0     user  blocked    dev           True  \n",
       "7514418.0  article   random   test           True  "
      ]
     },
     "execution_count": 3,
     "metadata": {},
     "output_type": "execute_result"
    }
   ],
   "source": [
    "# preview the results\n",
    "toxicity_annotated_comments.loc[toxicity_annotated_comments['labeled_toxic'] == True].head(15)"
   ]
  },
  {
   "cell_type": "markdown",
   "metadata": {},
   "source": [
    "Since the data is divided into three separate files, it must be joined in various ways in order to analyze."
   ]
  },
  {
   "cell_type": "code",
   "execution_count": 4,
   "metadata": {},
   "outputs": [],
   "source": [
    "joined_toxicity_demographics = toxicity_annotations.join(toxicity_worker_demographics, on=\"worker_id\", rsuffix=\"_r\")\n",
    "joined_toxicity_comments = toxicity_annotations.join(toxicity_annotated_comments, on=\"rev_id\", rsuffix=\"_r\")"
   ]
  },
  {
   "cell_type": "markdown",
   "metadata": {},
   "source": [
    "Quickly previewing the results of each table:"
   ]
  },
  {
   "cell_type": "code",
   "execution_count": 6,
   "metadata": {},
   "outputs": [
    {
     "data": {
      "text/html": [
       "<div>\n",
       "<style scoped>\n",
       "    .dataframe tbody tr th:only-of-type {\n",
       "        vertical-align: middle;\n",
       "    }\n",
       "\n",
       "    .dataframe tbody tr th {\n",
       "        vertical-align: top;\n",
       "    }\n",
       "\n",
       "    .dataframe thead th {\n",
       "        text-align: right;\n",
       "    }\n",
       "</style>\n",
       "<table border=\"1\" class=\"dataframe\">\n",
       "  <thead>\n",
       "    <tr style=\"text-align: right;\">\n",
       "      <th></th>\n",
       "      <th>rev_id</th>\n",
       "      <th>worker_id</th>\n",
       "      <th>toxicity</th>\n",
       "      <th>toxicity_score</th>\n",
       "      <th>worker_id_r</th>\n",
       "      <th>gender</th>\n",
       "      <th>english_first_language</th>\n",
       "      <th>age_group</th>\n",
       "      <th>education</th>\n",
       "    </tr>\n",
       "  </thead>\n",
       "  <tbody>\n",
       "    <tr>\n",
       "      <th>0</th>\n",
       "      <td>2232.0</td>\n",
       "      <td>723</td>\n",
       "      <td>0</td>\n",
       "      <td>0.0</td>\n",
       "      <td>1789.0</td>\n",
       "      <td>male</td>\n",
       "      <td>1.0</td>\n",
       "      <td>30-45</td>\n",
       "      <td>bachelors</td>\n",
       "    </tr>\n",
       "    <tr>\n",
       "      <th>1</th>\n",
       "      <td>2232.0</td>\n",
       "      <td>4000</td>\n",
       "      <td>0</td>\n",
       "      <td>0.0</td>\n",
       "      <td>NaN</td>\n",
       "      <td>NaN</td>\n",
       "      <td>NaN</td>\n",
       "      <td>NaN</td>\n",
       "      <td>NaN</td>\n",
       "    </tr>\n",
       "    <tr>\n",
       "      <th>2</th>\n",
       "      <td>2232.0</td>\n",
       "      <td>3989</td>\n",
       "      <td>0</td>\n",
       "      <td>1.0</td>\n",
       "      <td>NaN</td>\n",
       "      <td>NaN</td>\n",
       "      <td>NaN</td>\n",
       "      <td>NaN</td>\n",
       "      <td>NaN</td>\n",
       "    </tr>\n",
       "  </tbody>\n",
       "</table>\n",
       "</div>"
      ],
      "text/plain": [
       "   rev_id  worker_id  toxicity  toxicity_score  worker_id_r gender  \\\n",
       "0  2232.0        723         0             0.0       1789.0   male   \n",
       "1  2232.0       4000         0             0.0          NaN    NaN   \n",
       "2  2232.0       3989         0             1.0          NaN    NaN   \n",
       "\n",
       "   english_first_language age_group  education  \n",
       "0                     1.0     30-45  bachelors  \n",
       "1                     NaN       NaN        NaN  \n",
       "2                     NaN       NaN        NaN  "
      ]
     },
     "metadata": {},
     "output_type": "display_data"
    },
    {
     "data": {
      "text/html": [
       "<div>\n",
       "<style scoped>\n",
       "    .dataframe tbody tr th:only-of-type {\n",
       "        vertical-align: middle;\n",
       "    }\n",
       "\n",
       "    .dataframe tbody tr th {\n",
       "        vertical-align: top;\n",
       "    }\n",
       "\n",
       "    .dataframe thead th {\n",
       "        text-align: right;\n",
       "    }\n",
       "</style>\n",
       "<table border=\"1\" class=\"dataframe\">\n",
       "  <thead>\n",
       "    <tr style=\"text-align: right;\">\n",
       "      <th></th>\n",
       "      <th>rev_id</th>\n",
       "      <th>worker_id</th>\n",
       "      <th>toxicity</th>\n",
       "      <th>toxicity_score</th>\n",
       "      <th>comment</th>\n",
       "      <th>year</th>\n",
       "      <th>logged_in</th>\n",
       "      <th>ns</th>\n",
       "      <th>sample</th>\n",
       "      <th>split</th>\n",
       "      <th>labeled_toxic</th>\n",
       "    </tr>\n",
       "  </thead>\n",
       "  <tbody>\n",
       "    <tr>\n",
       "      <th>0</th>\n",
       "      <td>2232.0</td>\n",
       "      <td>723</td>\n",
       "      <td>0</td>\n",
       "      <td>0.0</td>\n",
       "      <td>This: :One can make an analogy in mathematical...</td>\n",
       "      <td>2002</td>\n",
       "      <td>True</td>\n",
       "      <td>article</td>\n",
       "      <td>random</td>\n",
       "      <td>train</td>\n",
       "      <td>False</td>\n",
       "    </tr>\n",
       "    <tr>\n",
       "      <th>1</th>\n",
       "      <td>2232.0</td>\n",
       "      <td>4000</td>\n",
       "      <td>0</td>\n",
       "      <td>0.0</td>\n",
       "      <td>This: :One can make an analogy in mathematical...</td>\n",
       "      <td>2002</td>\n",
       "      <td>True</td>\n",
       "      <td>article</td>\n",
       "      <td>random</td>\n",
       "      <td>train</td>\n",
       "      <td>False</td>\n",
       "    </tr>\n",
       "    <tr>\n",
       "      <th>2</th>\n",
       "      <td>2232.0</td>\n",
       "      <td>3989</td>\n",
       "      <td>0</td>\n",
       "      <td>1.0</td>\n",
       "      <td>This: :One can make an analogy in mathematical...</td>\n",
       "      <td>2002</td>\n",
       "      <td>True</td>\n",
       "      <td>article</td>\n",
       "      <td>random</td>\n",
       "      <td>train</td>\n",
       "      <td>False</td>\n",
       "    </tr>\n",
       "  </tbody>\n",
       "</table>\n",
       "</div>"
      ],
      "text/plain": [
       "   rev_id  worker_id  toxicity  toxicity_score  \\\n",
       "0  2232.0        723         0             0.0   \n",
       "1  2232.0       4000         0             0.0   \n",
       "2  2232.0       3989         0             1.0   \n",
       "\n",
       "                                             comment  year  logged_in  \\\n",
       "0  This: :One can make an analogy in mathematical...  2002       True   \n",
       "1  This: :One can make an analogy in mathematical...  2002       True   \n",
       "2  This: :One can make an analogy in mathematical...  2002       True   \n",
       "\n",
       "        ns  sample  split  labeled_toxic  \n",
       "0  article  random  train          False  \n",
       "1  article  random  train          False  \n",
       "2  article  random  train          False  "
      ]
     },
     "metadata": {},
     "output_type": "display_data"
    }
   ],
   "source": [
    "display(joined_toxicity_demographics.head(3))\n",
    "display(joined_toxicity_comments.head(3))"
   ]
  },
  {
   "cell_type": "markdown",
   "metadata": {},
   "source": [
    "Additionally, we can calculate a mean toxicity score for each individual and add that to the demographics table."
   ]
  },
  {
   "cell_type": "code",
   "execution_count": 8,
   "metadata": {},
   "outputs": [
    {
     "data": {
      "text/html": [
       "<div>\n",
       "<style scoped>\n",
       "    .dataframe tbody tr th:only-of-type {\n",
       "        vertical-align: middle;\n",
       "    }\n",
       "\n",
       "    .dataframe tbody tr th {\n",
       "        vertical-align: top;\n",
       "    }\n",
       "\n",
       "    .dataframe thead th {\n",
       "        text-align: right;\n",
       "    }\n",
       "</style>\n",
       "<table border=\"1\" class=\"dataframe\">\n",
       "  <thead>\n",
       "    <tr style=\"text-align: right;\">\n",
       "      <th></th>\n",
       "      <th>worker_id</th>\n",
       "      <th>gender</th>\n",
       "      <th>english_first_language</th>\n",
       "      <th>age_group</th>\n",
       "      <th>education</th>\n",
       "      <th>toxicity_score</th>\n",
       "    </tr>\n",
       "  </thead>\n",
       "  <tbody>\n",
       "    <tr>\n",
       "      <th>0</th>\n",
       "      <td>85</td>\n",
       "      <td>female</td>\n",
       "      <td>0</td>\n",
       "      <td>18-30</td>\n",
       "      <td>bachelors</td>\n",
       "      <td>-0.208768</td>\n",
       "    </tr>\n",
       "    <tr>\n",
       "      <th>1</th>\n",
       "      <td>1617</td>\n",
       "      <td>female</td>\n",
       "      <td>0</td>\n",
       "      <td>45-60</td>\n",
       "      <td>bachelors</td>\n",
       "      <td>0.000000</td>\n",
       "    </tr>\n",
       "    <tr>\n",
       "      <th>2</th>\n",
       "      <td>1394</td>\n",
       "      <td>female</td>\n",
       "      <td>0</td>\n",
       "      <td>NaN</td>\n",
       "      <td>bachelors</td>\n",
       "      <td>0.258403</td>\n",
       "    </tr>\n",
       "    <tr>\n",
       "      <th>3</th>\n",
       "      <td>311</td>\n",
       "      <td>male</td>\n",
       "      <td>0</td>\n",
       "      <td>30-45</td>\n",
       "      <td>bachelors</td>\n",
       "      <td>0.689373</td>\n",
       "    </tr>\n",
       "    <tr>\n",
       "      <th>4</th>\n",
       "      <td>1980</td>\n",
       "      <td>male</td>\n",
       "      <td>0</td>\n",
       "      <td>45-60</td>\n",
       "      <td>masters</td>\n",
       "      <td>-0.105263</td>\n",
       "    </tr>\n",
       "  </tbody>\n",
       "</table>\n",
       "</div>"
      ],
      "text/plain": [
       "   worker_id  gender  english_first_language age_group  education  \\\n",
       "0         85  female                       0     18-30  bachelors   \n",
       "1       1617  female                       0     45-60  bachelors   \n",
       "2       1394  female                       0       NaN  bachelors   \n",
       "3        311    male                       0     30-45  bachelors   \n",
       "4       1980    male                       0     45-60    masters   \n",
       "\n",
       "   toxicity_score  \n",
       "0       -0.208768  \n",
       "1        0.000000  \n",
       "2        0.258403  \n",
       "3        0.689373  \n",
       "4       -0.105263  "
      ]
     },
     "execution_count": 8,
     "metadata": {},
     "output_type": "execute_result"
    }
   ],
   "source": [
    "# calculate average toxicity per user\n",
    "avg_worker_toxicity = joined_toxicity_demographics.groupby(\"worker_id\")[\"toxicity_score\"].mean()\n",
    "\n",
    "# join the average toxicity to the demographics table\n",
    "toxicity_worker_demographics = toxicity_worker_demographics.join( avg_worker_toxicity )\n",
    "\n",
    "# preview the results\n",
    "toxicity_worker_demographics.head()"
   ]
  },
  {
   "cell_type": "code",
   "execution_count": 18,
   "metadata": {},
   "outputs": [
    {
     "data": {
      "text/plain": [
       "age_group\n",
       "18-30       0.219225\n",
       "30-45       0.204754\n",
       "45-60       0.190176\n",
       "Over 60     0.121644\n",
       "Under 18    0.252275\n",
       "Name: toxicity_score, dtype: float64"
      ]
     },
     "execution_count": 18,
     "metadata": {},
     "output_type": "execute_result"
    }
   ],
   "source": [
    "# look at the average toxicity by age group\n",
    "toxicity_worker_demographics.groupby(\"age_group\").toxicity_score.mean()"
   ]
  },
  {
   "cell_type": "markdown",
   "metadata": {},
   "source": [
    "There is quite a bias in the toxicity score by age group.   This becomes more apparent in graph form.   There is a direct relationship between age and the average toxicity score."
   ]
  },
  {
   "cell_type": "code",
   "execution_count": 32,
   "metadata": {},
   "outputs": [],
   "source": [
    "# import libraries\n",
    "import matplotlib.pyplot as plt\n",
    "import seaborn as sns\n",
    "from matplotlib.lines import Line2D\n",
    "\n",
    "# magic code for viewing plots using jupyter notebooks:\n",
    "%matplotlib inline "
   ]
  },
  {
   "cell_type": "code",
   "execution_count": 40,
   "metadata": {},
   "outputs": [
    {
     "data": {
      "image/png": "[encoded data removed]",
      "text/plain": [
       "<Figure size 432x288 with 1 Axes>"
      ]
     },
     "metadata": {},
     "output_type": "display_data"
    }
   ],
   "source": [
    "# set seaborn theme\n",
    "sns.set_theme(style='white')\n",
    "\n",
    "# create barplot, specify the order\n",
    "ax = sns.barplot(x=\"age_group\", \n",
    "                 y=\"toxicity_score\", \n",
    "                 data=toxicity_worker_demographics, \n",
    "                 order=[\"Under 18\", \"18-30\", \"30-45\", \"45-60\", \"Over 60\"],\n",
    "                palette=(\"Blues_d\"))"
   ]
  },
  {
   "cell_type": "markdown",
   "metadata": {},
   "source": [
    "### TOXICITY EDA"
   ]
  },
  {
   "cell_type": "code",
   "execution_count": null,
   "metadata": {},
   "outputs": [],
   "source": [
    "avg_worker_toxicity = joined_toxicity_demographics.groupby(\"worker_id\")[\"avg_toxicity_score\"].mean()\n",
    "toxicity_worker_demographics = toxicity_worker_demographics.join( avg_worker_toxicity )\n",
    "\n",
    "toxicity_worker_demographics.head()"
   ]
  },
  {
   "cell_type": "markdown",
   "metadata": {},
   "source": [
    "### PERSONAL ATTACK ANALYSIS"
   ]
  },
  {
   "cell_type": "markdown",
   "metadata": {},
   "source": []
  },
  {
   "cell_type": "code",
   "execution_count": null,
   "metadata": {},
   "outputs": [],
   "source": [
    "# labels a comment as an atack if the majority of annoatators did so\n",
    "labels = attack_annotations.groupby('rev_id')['attack'].mean() > 0.5\n",
    "\n",
    "# join labels and comments\n",
    "attack_annotated_comments['attack'] = labels"
   ]
  },
  {
   "cell_type": "markdown",
   "metadata": {},
   "source": [
    "Join the dataframes from similar datasets in order to analyze as a whole."
   ]
  },
  {
   "cell_type": "code",
   "execution_count": null,
   "metadata": {},
   "outputs": [],
   "source": [
    "joined_toxicity_annotations = toxicity_annotations.join(toxicity_worker_demographics, on=\"worker_id\", rsuffix=\"_r\")\n",
    "joined_aggression_annotations = aggression_annotations.join(aggression_worker_demographics, on=\"worker_id\", rsuffix=\"_r\")\n",
    "joined_attack_annotations = attack_annotations.join(attack_worker_demographics, on=\"worker_id\", rsuffix=\"_r\")"
   ]
  },
  {
   "cell_type": "code",
   "execution_count": null,
   "metadata": {},
   "outputs": [],
   "source": [
    "joined_toxicity_annotations = toxicity_annotations.join(toxicity_annotated_comments, on=\"rev_id\", rsuffix=\"_r\")\n"
   ]
  },
  {
   "cell_type": "code",
   "execution_count": null,
   "metadata": {},
   "outputs": [],
   "source": [
    "\n",
    "# labels a comment as an atack if the majority of annoatators did so\n",
    "labels = attack_annotations.groupby('rev_id')['attack'].mean() > 0.5"
   ]
  },
  {
   "cell_type": "code",
   "execution_count": null,
   "metadata": {},
   "outputs": [],
   "source": [
    "\n",
    "# join labels and comments\n",
    "attack_annotated_comments['attack'] = labels"
   ]
  },
  {
   "cell_type": "code",
   "execution_count": null,
   "metadata": {},
   "outputs": [],
   "source": [
    "# remove newline and tab tokens\n",
    "attack_annotated_comments['comment'] = attack_annotated_comments['comment'].apply(lambda x: x.replace(\"NEWLINE_TOKEN\", \" \"))\n",
    "attack_annotated_comments['comment'] = attack_annotated_comments['comment'].apply(lambda x: x.replace(\"TAB_TOKEN\", \" \"))\n",
    "\n",
    "attack_annotated_comments.loc[attack_annotated_comments['attack'] == True]"
   ]
  },
  {
   "cell_type": "markdown",
   "metadata": {},
   "source": [
    "Preview the results."
   ]
  },
  {
   "cell_type": "code",
   "execution_count": null,
   "metadata": {},
   "outputs": [],
   "source": [
    "joined_toxicity_annotations.head()"
   ]
  },
  {
   "cell_type": "markdown",
   "metadata": {},
   "source": [
    "## Analysis / Visualization"
   ]
  },
  {
   "cell_type": "markdown",
   "metadata": {},
   "source": [
    "Calculate the average score per worker - that worker's \"toxicity bias\". Is this different for different age groups?"
   ]
  },
  {
   "cell_type": "code",
   "execution_count": null,
   "metadata": {},
   "outputs": [],
   "source": [
    "avg_worker_toxicity = joined_toxicity_annotations.groupby(\"worker_id\")[\"toxicity_score\"].mean()\n",
    "toxicity_worker_demographics = toxicity_worker_demographics.join(avg_worker_toxicity)\n",
    "toxicity_worker_demographics.head()"
   ]
  },
  {
   "cell_type": "markdown",
   "metadata": {},
   "source": [
    "\n",
    "Now let's compute an average toxicity statistic for each group..."
   ]
  },
  {
   "cell_type": "code",
   "execution_count": null,
   "metadata": {},
   "outputs": [],
   "source": [
    "toxicity_worker_demographics.groupby(\"age_group\").toxicity_score.mean()"
   ]
  },
  {
   "cell_type": "markdown",
   "metadata": {},
   "source": [
    "## Implications"
   ]
  },
  {
   "cell_type": "markdown",
   "metadata": {},
   "source": []
  },
  {
   "cell_type": "markdown",
   "metadata": {},
   "source": [
    "### "
   ]
  },
  {
   "cell_type": "markdown",
   "metadata": {},
   "source": [
    "---"
   ]
  },
  {
   "cell_type": "code",
   "execution_count": null,
   "metadata": {},
   "outputs": [],
   "source": [
    "# requires plotly install\n",
    "# conda install -c anaconda plotly\n",
    "import plotly.express as px\n",
    "\n",
    "\n",
    "\n",
    "# also needs ipython widgets\n",
    "conda install jupyterlab \"ipywidgets=7.5\"\n",
    "\n",
    "\n",
    "# JupyterLab renderer support\n",
    "jupyter labextension install jupyterlab-plotly@4.11.0\n",
    "\n",
    "jupyter labextension install @jupyter-widgets/jupyterlab-manager plotlywidget@4.11.0"
   ]
  },
  {
   "cell_type": "code",
   "execution_count": 11,
   "metadata": {},
   "outputs": [
    {
     "data": {
      "application/vnd.jupyter.widget-view+json": {
       "model_id": "eafafc2844224881b14cf510a57042b1",
       "version_major": 2,
       "version_minor": 0
      },
      "text/plain": [
       "FigureWidget({\n",
       "    'data': [{'type': 'bar', 'uid': 'cbec17e5-75f3-4556-9438-6eb2f1e266dd', 'y': [2, 3, 1]}],\n",
       " …"
      ]
     },
     "metadata": {},
     "output_type": "display_data"
    }
   ],
   "source": [
    "import plotly.graph_objects as go\n",
    "fig = go.FigureWidget(data=go.Bar(y=[2, 3, 1]))\n",
    "fig"
   ]
  },
  {
   "cell_type": "code",
   "execution_count": 12,
   "metadata": {},
   "outputs": [],
   "source": [
    "import plotly.graph_objects as go\n",
    "fig = go.Figure(data=go.Bar(y=[2, 3, 1]))\n",
    "fig.write_html('second_figure.html', auto_open=True)"
   ]
  },
  {
   "cell_type": "code",
   "execution_count": null,
   "metadata": {},
   "outputs": [],
   "source": [
    "import plotly.graph_objects as go\n",
    "fig = go.Figure(data=go.Bar(y=[2, 3, 1]))\n",
    "fig.show()"
   ]
  },
  {
   "cell_type": "code",
   "execution_count": null,
   "metadata": {},
   "outputs": [],
   "source": [
    "import pandas as pd\n",
    "import seaborn as sns\n",
    "from matplotlib import pyplot as plt"
   ]
  }
 ],
 "metadata": {
  "kernelspec": {
   "display_name": "Python 3",
   "language": "python",
   "name": "python3"
  },
  "language_info": {
   "codemirror_mode": {
    "name": "ipython",
    "version": 3
   },
   "file_extension": ".py",
   "mimetype": "text/x-python",
   "name": "python",
   "nbconvert_exporter": "python",
   "pygments_lexer": "ipython3",
   "version": "3.7.4"
  }
 },
 "nbformat": 4,
 "nbformat_minor": 4
}
